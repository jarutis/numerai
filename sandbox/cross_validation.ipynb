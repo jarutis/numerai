{
 "cells": [
  {
   "cell_type": "code",
   "execution_count": 1,
   "id": "portable-memory",
   "metadata": {},
   "outputs": [],
   "source": [
    "import sys, os\n",
    "sys.path.append(os.path.abspath('../src/'))"
   ]
  },
  {
   "cell_type": "code",
   "execution_count": 2,
   "id": "broad-exception",
   "metadata": {},
   "outputs": [],
   "source": [
    "import utils\n",
    "import pandas as pd"
   ]
  },
  {
   "cell_type": "code",
   "execution_count": 3,
   "id": "laden-printer",
   "metadata": {},
   "outputs": [],
   "source": [
    "train, _ = utils.read_current('../data/round_254/')"
   ]
  },
  {
   "cell_type": "code",
   "execution_count": 4,
   "id": "touched-fever",
   "metadata": {},
   "outputs": [],
   "source": [
    "train['era'] = train.era.str.extract('(\\d+|X)$', expand=False).str.zfill(4)"
   ]
  },
  {
   "cell_type": "code",
   "execution_count": 5,
   "id": "gorgeous-economics",
   "metadata": {},
   "outputs": [
    {
     "data": {
      "text/plain": [
       "310"
      ]
     },
     "execution_count": 5,
     "metadata": {},
     "output_type": "execute_result"
    }
   ],
   "source": [
    "features = [f for f in train.columns if f.startswith('feature')]\n",
    "len(features)"
   ]
  },
  {
   "cell_type": "code",
   "execution_count": 6,
   "id": "removed-abuse",
   "metadata": {},
   "outputs": [],
   "source": [
    "from sklearn.model_selection import GroupKFold, cross_val_score\n",
    "from sklearn.metrics import make_scorer\n",
    "\n",
    "from scipy.stats import spearmanr"
   ]
  },
  {
   "cell_type": "code",
   "execution_count": 7,
   "id": "thermal-ecology",
   "metadata": {},
   "outputs": [],
   "source": [
    "from lightgbm import LGBMRegressor"
   ]
  },
  {
   "cell_type": "code",
   "execution_count": 12,
   "id": "heavy-bangkok",
   "metadata": {},
   "outputs": [],
   "source": [
    "param = {\n",
    "    \"boosting_type\": \"gbdt\",\n",
    "    \"objective\": \"regression\",\n",
    "    \"metric\": \"l2\",\n",
    "    \"num_iterations\": 2000,\n",
    "    \"learning_rate\": 0.006,\n",
    "    \"lambda_l1\": 1.4,\n",
    "    \"lambda_l2\": 1.0,\n",
    "    \"bagging_fraction\": 0.55,\n",
    "    \"bagging_freq\": 1,\n",
    "    \"num_leaves\": 107,\n",
    "    \"max_depth\": 15,\n",
    "    \"verbose\": 0,\n",
    "    \"random_state\": 0,\n",
    "}"
   ]
  },
  {
   "cell_type": "code",
   "execution_count": 13,
   "id": "fatal-fellow",
   "metadata": {},
   "outputs": [],
   "source": [
    "def spearman(y_true, y_pred, axis=0):\n",
    "    \"\"\" Calculate Spearman correlation \"\"\"\n",
    "    return spearmanr(y_true, y_pred, axis=axis)[0]"
   ]
  },
  {
   "cell_type": "code",
   "execution_count": 14,
   "id": "distributed-branch",
   "metadata": {},
   "outputs": [],
   "source": [
    "cv = GroupKFold(n_splits=10)\n",
    "\n",
    "model = LGBMRegressor(**param)\n",
    "\n",
    "X = train[features]\n",
    "y = train.target\n",
    "groups = train.era"
   ]
  },
  {
   "cell_type": "code",
   "execution_count": null,
   "id": "incorporated-simon",
   "metadata": {},
   "outputs": [],
   "source": [
    "n_scores = cross_val_score(model, X, y, groups=groups, scoring=make_scorer(spearman), cv=cv)"
   ]
  },
  {
   "cell_type": "code",
   "execution_count": 16,
   "id": "visible-breast",
   "metadata": {},
   "outputs": [
    {
     "data": {
      "text/plain": [
       "array([0.03858683, 0.03508479, 0.04694068, 0.04788679, 0.0376488 ,\n",
       "       0.05353759, 0.04606174, 0.05328889, 0.04667806, 0.04705327])"
      ]
     },
     "execution_count": 16,
     "metadata": {},
     "output_type": "execute_result"
    }
   ],
   "source": [
    "n_scores"
   ]
  },
  {
   "cell_type": "code",
   "execution_count": 18,
   "id": "mounted-sheriff",
   "metadata": {},
   "outputs": [
    {
     "name": "stdout",
     "output_type": "stream",
     "text": [
      "[LightGBM] [Warning] bagging_fraction is set=0.55, subsample=1.0 will be ignored. Current value: bagging_fraction=0.55\n",
      "[LightGBM] [Warning] lambda_l1 is set=1.4, reg_alpha=0.0 will be ignored. Current value: lambda_l1=1.4\n",
      "[LightGBM] [Warning] bagging_freq is set=1, subsample_freq=0 will be ignored. Current value: bagging_freq=1\n",
      "[LightGBM] [Warning] lambda_l2 is set=1.0, reg_lambda=0.0 will be ignored. Current value: lambda_l2=1.0\n",
      "[LightGBM] [Warning] bagging_fraction is set=0.55, subsample=1.0 will be ignored. Current value: bagging_fraction=0.55\n",
      "[LightGBM] [Warning] lambda_l1 is set=1.4, reg_alpha=0.0 will be ignored. Current value: lambda_l1=1.4\n",
      "[LightGBM] [Warning] bagging_freq is set=1, subsample_freq=0 will be ignored. Current value: bagging_freq=1\n",
      "[LightGBM] [Warning] lambda_l2 is set=1.0, reg_lambda=0.0 will be ignored. Current value: lambda_l2=1.0\n",
      "[LightGBM] [Warning] Auto-choosing row-wise multi-threading, the overhead of testing was 0.085530 seconds.\n",
      "You can set `force_row_wise=true` to remove the overhead.\n",
      "And if memory is not enough, you can set `force_col_wise=true`.\n"
     ]
    },
    {
     "data": {
      "text/plain": [
       "LGBMRegressor(bagging_fraction=0.55, bagging_freq=1, lambda_l1=1.4,\n",
       "              lambda_l2=1.0, learning_rate=0.006, max_depth=15, metric='l2',\n",
       "              num_iterations=2000, num_leaves=107, objective='regression',\n",
       "              random_state=0, verbose=0)"
      ]
     },
     "execution_count": 18,
     "metadata": {},
     "output_type": "execute_result"
    }
   ],
   "source": [
    "model.fit(train[features], train.target)"
   ]
  },
  {
   "cell_type": "code",
   "execution_count": 19,
   "id": "exceptional-heath",
   "metadata": {},
   "outputs": [
    {
     "data": {
      "text/plain": [
       "<lightgbm.basic.Booster at 0x12678afa0>"
      ]
     },
     "execution_count": 19,
     "metadata": {},
     "output_type": "execute_result"
    }
   ],
   "source": [
    "model.booster_.save_model('../models/lgb001.txt')"
   ]
  },
  {
   "cell_type": "code",
   "execution_count": null,
   "id": "superb-telephone",
   "metadata": {},
   "outputs": [],
   "source": []
  }
 ],
 "metadata": {
  "kernelspec": {
   "display_name": "Python 3",
   "language": "python",
   "name": "python3"
  },
  "language_info": {
   "codemirror_mode": {
    "name": "ipython",
    "version": 3
   },
   "file_extension": ".py",
   "mimetype": "text/x-python",
   "name": "python",
   "nbconvert_exporter": "python",
   "pygments_lexer": "ipython3",
   "version": "3.9.2"
  }
 },
 "nbformat": 4,
 "nbformat_minor": 5
}
