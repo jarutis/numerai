{
 "cells": [
  {
   "cell_type": "code",
   "execution_count": 2,
   "id": "second-static",
   "metadata": {},
   "outputs": [],
   "source": [
    "import pandas as pd\n",
    "import numerapi\n",
    "import numpy as np\n",
    "import json"
   ]
  },
  {
   "cell_type": "code",
   "execution_count": 2,
   "id": "african-motel",
   "metadata": {},
   "outputs": [
    {
     "name": "stdout",
     "output_type": "stream",
     "text": [
      "CPU times: user 22.2 s, sys: 1.38 s, total: 23.6 s\n",
      "Wall time: 23.9 s\n"
     ]
    }
   ],
   "source": [
    "%%time\n",
    "\n",
    "directory = 'data'\n",
    "example_public_id = \"WUTL537K2HLISXIDDHFTQF2LZ5MO67HV\"\n",
    "example_secret_key = \"3EKVW2XQ7NTR6FDA77ZOJF4UWHOE56QYZ7VZ7CZ5WYVIMEARXEUNELYXOPH4S35J\"\n",
    "NAPI = numerapi.NumerAPI(example_public_id, example_secret_key)\n",
    "\n",
    "with open('dtypes.json') as f:\n",
    "    dtypes = json.load(f)\n",
    "\n",
    "full_path = f\"{directory}/numerai_dataset_{NAPI.get_current_round()}/\"\n",
    "train_path = full_path + \"numerai_training_data.csv\"\n",
    "test_path = full_path + \"numerai_tournament_data.csv\"\n",
    "train = pd.read_csv(train_path, dtype=dtypes)\n",
    "test = pd.read_csv(test_path, dtype=dtypes)"
   ]
  },
  {
   "cell_type": "code",
   "execution_count": 5,
   "id": "professional-mixer",
   "metadata": {},
   "outputs": [],
   "source": [
    "full = train.append(test).reset_index(drop=True)"
   ]
  },
  {
   "cell_type": "code",
   "execution_count": 6,
   "id": "allied-organizer",
   "metadata": {},
   "outputs": [],
   "source": [
    "full.to_feather('data/round253.feather')"
   ]
  },
  {
   "cell_type": "code",
   "execution_count": 3,
   "id": "talented-maine",
   "metadata": {},
   "outputs": [],
   "source": [
    "df = pd.read_feather('data/round253.feather')\n",
    "train = df[df.data_type.isin(['train', 'validation'])]\n",
    "test = df[df.data_type.isin(['test', 'live'])]\n",
    "\n",
    "train.reset_index(drop=True).to_feather('data/train.feather')\n",
    "test.reset_index(drop=True).to_feather('data/test.feather')"
   ]
  },
  {
   "cell_type": "code",
   "execution_count": 10,
   "id": "potential-morning",
   "metadata": {},
   "outputs": [
    {
     "data": {
      "text/plain": [
       "eraX      5367\n",
       "era946    5360\n",
       "era947    5360\n",
       "era945    5338\n",
       "era944    5333\n",
       "          ... \n",
       "era122    4658\n",
       "era128    4636\n",
       "era124    4630\n",
       "era123    4609\n",
       "era121    4573\n",
       "Name: era, Length: 328, dtype: Int64"
      ]
     },
     "execution_count": 10,
     "metadata": {},
     "output_type": "execute_result"
    }
   ],
   "source": [
    "test.era.value_counts()"
   ]
  },
  {
   "cell_type": "code",
   "execution_count": 7,
   "id": "interstate-blank",
   "metadata": {},
   "outputs": [
    {
     "data": {
      "text/plain": [
       "n79b07d6aa70eba6    1\n",
       "n4031fc41e4d126f    1\n",
       "nedf688db313c0c1    1\n",
       "nfdb7d658be7cb0c    1\n",
       "n2fcfe523b2799af    1\n",
       "                   ..\n",
       "n43a3d69f3e28159    1\n",
       "n11949906c3a6b4c    1\n",
       "n11477eacd1467c7    1\n",
       "n24412ab38f98ae0    1\n",
       "n118755a504bfbcc    1\n",
       "Name: id, Length: 1660502, dtype: Int64"
      ]
     },
     "execution_count": 7,
     "metadata": {},
     "output_type": "execute_result"
    }
   ],
   "source": [
    "test.id.value_counts()"
   ]
  },
  {
   "cell_type": "code",
   "execution_count": null,
   "id": "complicated-photographer",
   "metadata": {},
   "outputs": [],
   "source": []
  }
 ],
 "metadata": {
  "kernelspec": {
   "display_name": "Python 3",
   "language": "python",
   "name": "python3"
  },
  "language_info": {
   "codemirror_mode": {
    "name": "ipython",
    "version": 3
   },
   "file_extension": ".py",
   "mimetype": "text/x-python",
   "name": "python",
   "nbconvert_exporter": "python",
   "pygments_lexer": "ipython3",
   "version": "3.9.2"
  }
 },
 "nbformat": 4,
 "nbformat_minor": 5
}
