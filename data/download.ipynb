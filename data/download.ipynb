{
 "cells": [
  {
   "cell_type": "code",
   "execution_count": 1,
   "id": "interested-korea",
   "metadata": {},
   "outputs": [],
   "source": [
    "import sys, os\n",
    "sys.path.append(os.path.abspath('../src/'))"
   ]
  },
  {
   "cell_type": "code",
   "execution_count": 2,
   "id": "mediterranean-smoke",
   "metadata": {},
   "outputs": [],
   "source": [
    "import utils"
   ]
  },
  {
   "cell_type": "code",
   "execution_count": 3,
   "id": "breeding-hampton",
   "metadata": {},
   "outputs": [
    {
     "name": "stdout",
     "output_type": "stream",
     "text": [
      "Downloading new data for round: 256!\n"
     ]
    },
    {
     "name": "stderr",
     "output_type": "stream",
     "text": [
      "./round_256/numerai_dataset_256.zip: 100%|█████████▉| 396M/396M [02:02<00:00, 2.67MB/s]    2021-03-20 21:29:00,446 INFO numerapi.base_api: unzipping file...\n"
     ]
    }
   ],
   "source": [
    "round_nr = utils.NAPI.get_current_round()\n",
    "directory = f'./round_{round_nr}'\n",
    "utils.download_current_data(directory)"
   ]
  },
  {
   "cell_type": "code",
   "execution_count": 4,
   "id": "offensive-roberts",
   "metadata": {},
   "outputs": [
    {
     "name": "stderr",
     "output_type": "stream",
     "text": [
      "./round_256/numerai_dataset_256.zip: 396MB [02:18, 2.87MB/s]                           \n"
     ]
    }
   ],
   "source": [
    "train, test = utils.read_current(directory)"
   ]
  },
  {
   "cell_type": "code",
   "execution_count": 5,
   "id": "boxed-uniform",
   "metadata": {},
   "outputs": [
    {
     "data": {
      "text/plain": [
       "train    501808\n",
       "Name: data_type, dtype: Int64"
      ]
     },
     "execution_count": 5,
     "metadata": {},
     "output_type": "execute_result"
    }
   ],
   "source": [
    "train.data_type.value_counts()"
   ]
  },
  {
   "cell_type": "code",
   "execution_count": 6,
   "id": "fuzzy-cargo",
   "metadata": {},
   "outputs": [
    {
     "data": {
      "text/plain": [
       "test          1528119\n",
       "validation     137779\n",
       "live             5411\n",
       "Name: data_type, dtype: Int64"
      ]
     },
     "execution_count": 6,
     "metadata": {},
     "output_type": "execute_result"
    }
   ],
   "source": [
    "test.data_type.value_counts()"
   ]
  },
  {
   "cell_type": "code",
   "execution_count": null,
   "id": "convinced-chapel",
   "metadata": {},
   "outputs": [],
   "source": []
  }
 ],
 "metadata": {
  "kernelspec": {
   "display_name": "Python 3",
   "language": "python",
   "name": "python3"
  },
  "language_info": {
   "codemirror_mode": {
    "name": "ipython",
    "version": 3
   },
   "file_extension": ".py",
   "mimetype": "text/x-python",
   "name": "python",
   "nbconvert_exporter": "python",
   "pygments_lexer": "ipython3",
   "version": "3.9.2"
  }
 },
 "nbformat": 4,
 "nbformat_minor": 5
}
