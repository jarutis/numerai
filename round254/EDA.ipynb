{
 "cells": [
  {
   "cell_type": "code",
   "execution_count": 1,
   "id": "activated-trouble",
   "metadata": {},
   "outputs": [],
   "source": [
    "import itertools\n",
    "import math\n",
    "import random as rn\n",
    "import re\n",
    "\n",
    "import lightgbm as lgb\n",
    "import optuna\n",
    "import pandas as pd\n",
    "from sklearn import preprocessing"
   ]
  },
  {
   "cell_type": "code",
   "execution_count": 2,
   "id": "delayed-stanley",
   "metadata": {},
   "outputs": [],
   "source": [
    "df = pd.read_feather('./data/train.feather')"
   ]
  },
  {
   "cell_type": "code",
   "execution_count": 3,
   "id": "previous-nature",
   "metadata": {},
   "outputs": [],
   "source": [
    "df['era'] = df.era.apply(lambda era: int(re.findall('era(\\d+)$', era)[0]))"
   ]
  },
  {
   "cell_type": "code",
   "execution_count": 4,
   "id": "meaningful-cleaning",
   "metadata": {},
   "outputs": [
    {
     "data": {
      "text/plain": [
       "train         501808\n",
       "validation    137779\n",
       "Name: data_type, dtype: Int64"
      ]
     },
     "execution_count": 4,
     "metadata": {},
     "output_type": "execute_result"
    }
   ],
   "source": [
    "df.data_type.value_counts()"
   ]
  },
  {
   "cell_type": "code",
   "execution_count": 5,
   "id": "developed-notice",
   "metadata": {},
   "outputs": [
    {
     "data": {
      "text/plain": [
       "0.50    320631\n",
       "0.25    127584\n",
       "0.75    127578\n",
       "1.00     31899\n",
       "0.00     31895\n",
       "Name: target, dtype: int64"
      ]
     },
     "execution_count": 5,
     "metadata": {},
     "output_type": "execute_result"
    }
   ],
   "source": [
    "df.target.value_counts(dropna=False)"
   ]
  },
  {
   "cell_type": "code",
   "execution_count": 6,
   "id": "fewer-keeping",
   "metadata": {},
   "outputs": [],
   "source": [
    "def get_group_stats(df: pd.DataFrame) -> pd.DataFrame:\n",
    "        for group in [\"intelligence\", \"wisdom\", \"charisma\", \"dexterity\", \"strength\", \"constitution\"]:\n",
    "            cols = [col for col in df.columns if group in col]\n",
    "            df[f\"feature_{group}_mean\"] = df[cols].mean(axis=1)\n",
    "            df[f\"feature_{group}_std\"] = df[cols].std(axis=1)\n",
    "            df[f\"feature_{group}_skew\"] = df[cols].skew(axis=1)\n",
    "        return df\n",
    "\n",
    "df = get_group_stats(df)"
   ]
  },
  {
   "cell_type": "code",
   "execution_count": 7,
   "id": "respiratory-russian",
   "metadata": {},
   "outputs": [
    {
     "data": {
      "text/plain": [
       "310"
      ]
     },
     "execution_count": 7,
     "metadata": {},
     "output_type": "execute_result"
    }
   ],
   "source": [
    "base_features = [f for f in df.columns if re.match('feature.+\\d$', f)]\n",
    "len(base_features)"
   ]
  },
  {
   "cell_type": "code",
   "execution_count": 8,
   "id": "polish-paper",
   "metadata": {},
   "outputs": [],
   "source": [
    "grouped = itertools.groupby(base_features, lambda x:re.findall('_(.+?)\\d+$', x)[0])\n",
    "groups = {k: list(v) for k, v in grouped}"
   ]
  },
  {
   "cell_type": "code",
   "execution_count": 9,
   "id": "approved-penetration",
   "metadata": {},
   "outputs": [
    {
     "name": "stdout",
     "output_type": "stream",
     "text": [
      "intelligence ['feature_intelligence4']\n",
      "charisma ['feature_charisma31', 'feature_charisma76', 'feature_charisma70', 'feature_charisma17', 'feature_charisma48', 'feature_charisma78']\n",
      "strength ['feature_strength16', 'feature_strength38', 'feature_strength35']\n",
      "dexterity ['feature_dexterity4']\n",
      "constitution ['feature_constitution31', 'feature_constitution76', 'feature_constitution70', 'feature_constitution17', 'feature_constitution48', 'feature_constitution78', 'feature_constitution61', 'feature_constitution81']\n",
      "wisdom ['feature_wisdom16', 'feature_wisdom38', 'feature_wisdom35']\n"
     ]
    }
   ],
   "source": [
    "ft_corr_list = set()\n",
    "interactions_count = 20\n",
    "for k, v in groups.items():\n",
    "    n = math.ceil(len(v) / len(base_features) * interactions_count)\n",
    "    rn.seed(3)\n",
    "    sample = rn.sample(v, n)\n",
    "    print(k, sample)\n",
    "    ft_corr_list |= set(sample)"
   ]
  },
  {
   "cell_type": "code",
   "execution_count": 10,
   "id": "downtown-formation",
   "metadata": {},
   "outputs": [],
   "source": [
    "interactions = preprocessing.PolynomialFeatures(degree=2, interaction_only=True, include_bias=False)\n",
    "\n",
    "interactions.fit(df[ft_corr_list], df[\"target\"])\n",
    "\n",
    "df_interact = pd.DataFrame(interactions.transform(df[ft_corr_list]))\n",
    "\n",
    "df=pd.concat([df,df_interact],axis=1)"
   ]
  },
  {
   "cell_type": "code",
   "execution_count": 11,
   "id": "trained-boating",
   "metadata": {},
   "outputs": [
    {
     "data": {
      "text/html": [
       "<div>\n",
       "<style scoped>\n",
       "    .dataframe tbody tr th:only-of-type {\n",
       "        vertical-align: middle;\n",
       "    }\n",
       "\n",
       "    .dataframe tbody tr th {\n",
       "        vertical-align: top;\n",
       "    }\n",
       "\n",
       "    .dataframe thead th {\n",
       "        text-align: right;\n",
       "    }\n",
       "</style>\n",
       "<table border=\"1\" class=\"dataframe\">\n",
       "  <thead>\n",
       "    <tr style=\"text-align: right;\">\n",
       "      <th></th>\n",
       "      <th>era</th>\n",
       "      <th>feature_intelligence1_corr</th>\n",
       "      <th>feature_intelligence2_corr</th>\n",
       "      <th>feature_intelligence3_corr</th>\n",
       "      <th>feature_intelligence4_corr</th>\n",
       "      <th>feature_intelligence5_corr</th>\n",
       "      <th>feature_intelligence6_corr</th>\n",
       "      <th>feature_intelligence7_corr</th>\n",
       "      <th>feature_intelligence8_corr</th>\n",
       "      <th>feature_intelligence9_corr</th>\n",
       "      <th>...</th>\n",
       "      <th>feature_wisdom37_corr</th>\n",
       "      <th>feature_wisdom38_corr</th>\n",
       "      <th>feature_wisdom39_corr</th>\n",
       "      <th>feature_wisdom40_corr</th>\n",
       "      <th>feature_wisdom41_corr</th>\n",
       "      <th>feature_wisdom42_corr</th>\n",
       "      <th>feature_wisdom43_corr</th>\n",
       "      <th>feature_wisdom44_corr</th>\n",
       "      <th>feature_wisdom45_corr</th>\n",
       "      <th>feature_wisdom46_corr</th>\n",
       "    </tr>\n",
       "  </thead>\n",
       "  <tbody>\n",
       "    <tr>\n",
       "      <th>0</th>\n",
       "      <td>2</td>\n",
       "      <td>-0.013449</td>\n",
       "      <td>0.021977</td>\n",
       "      <td>0.029850</td>\n",
       "      <td>-0.011809</td>\n",
       "      <td>0.022633</td>\n",
       "      <td>-0.024273</td>\n",
       "      <td>-0.031818</td>\n",
       "      <td>-0.019681</td>\n",
       "      <td>0.031931</td>\n",
       "      <td>...</td>\n",
       "      <td>-0.022115</td>\n",
       "      <td>-0.021081</td>\n",
       "      <td>-0.011199</td>\n",
       "      <td>0.023029</td>\n",
       "      <td>0.020617</td>\n",
       "      <td>0.010317</td>\n",
       "      <td>0.015449</td>\n",
       "      <td>0.014562</td>\n",
       "      <td>-0.042133</td>\n",
       "      <td>-0.007230</td>\n",
       "    </tr>\n",
       "    <tr>\n",
       "      <th>1</th>\n",
       "      <td>3</td>\n",
       "      <td>-0.010667</td>\n",
       "      <td>0.032668</td>\n",
       "      <td>0.026001</td>\n",
       "      <td>0.003333</td>\n",
       "      <td>0.004000</td>\n",
       "      <td>-0.000667</td>\n",
       "      <td>-0.000334</td>\n",
       "      <td>-0.019001</td>\n",
       "      <td>0.018085</td>\n",
       "      <td>...</td>\n",
       "      <td>-0.012405</td>\n",
       "      <td>0.001675</td>\n",
       "      <td>0.004689</td>\n",
       "      <td>0.018586</td>\n",
       "      <td>0.002063</td>\n",
       "      <td>0.012850</td>\n",
       "      <td>0.011365</td>\n",
       "      <td>0.020651</td>\n",
       "      <td>0.004373</td>\n",
       "      <td>0.000668</td>\n",
       "    </tr>\n",
       "    <tr>\n",
       "      <th>2</th>\n",
       "      <td>4</td>\n",
       "      <td>-0.012404</td>\n",
       "      <td>-0.015016</td>\n",
       "      <td>-0.018606</td>\n",
       "      <td>-0.000979</td>\n",
       "      <td>-0.003591</td>\n",
       "      <td>0.008814</td>\n",
       "      <td>0.017954</td>\n",
       "      <td>-0.003591</td>\n",
       "      <td>0.018375</td>\n",
       "      <td>...</td>\n",
       "      <td>0.028219</td>\n",
       "      <td>0.034745</td>\n",
       "      <td>0.027862</td>\n",
       "      <td>0.005020</td>\n",
       "      <td>0.008391</td>\n",
       "      <td>0.023167</td>\n",
       "      <td>-0.010459</td>\n",
       "      <td>0.015729</td>\n",
       "      <td>-0.011540</td>\n",
       "      <td>-0.004900</td>\n",
       "    </tr>\n",
       "    <tr>\n",
       "      <th>3</th>\n",
       "      <td>5</td>\n",
       "      <td>-0.007157</td>\n",
       "      <td>0.015869</td>\n",
       "      <td>0.007468</td>\n",
       "      <td>-0.023337</td>\n",
       "      <td>-0.048540</td>\n",
       "      <td>0.012135</td>\n",
       "      <td>0.011202</td>\n",
       "      <td>-0.027693</td>\n",
       "      <td>0.007191</td>\n",
       "      <td>...</td>\n",
       "      <td>0.034410</td>\n",
       "      <td>0.031251</td>\n",
       "      <td>0.030939</td>\n",
       "      <td>-0.022632</td>\n",
       "      <td>-0.013421</td>\n",
       "      <td>0.030947</td>\n",
       "      <td>0.019638</td>\n",
       "      <td>-0.017851</td>\n",
       "      <td>0.011313</td>\n",
       "      <td>0.023978</td>\n",
       "    </tr>\n",
       "    <tr>\n",
       "      <th>4</th>\n",
       "      <td>6</td>\n",
       "      <td>-0.009741</td>\n",
       "      <td>-0.023025</td>\n",
       "      <td>-0.014169</td>\n",
       "      <td>-0.022730</td>\n",
       "      <td>0.026863</td>\n",
       "      <td>0.013579</td>\n",
       "      <td>0.018597</td>\n",
       "      <td>-0.004133</td>\n",
       "      <td>-0.014212</td>\n",
       "      <td>...</td>\n",
       "      <td>0.025209</td>\n",
       "      <td>0.025186</td>\n",
       "      <td>0.015704</td>\n",
       "      <td>0.003626</td>\n",
       "      <td>0.009695</td>\n",
       "      <td>0.031139</td>\n",
       "      <td>-0.015669</td>\n",
       "      <td>0.002115</td>\n",
       "      <td>0.003880</td>\n",
       "      <td>-0.001181</td>\n",
       "    </tr>\n",
       "    <tr>\n",
       "      <th>...</th>\n",
       "      <td>...</td>\n",
       "      <td>...</td>\n",
       "      <td>...</td>\n",
       "      <td>...</td>\n",
       "      <td>...</td>\n",
       "      <td>...</td>\n",
       "      <td>...</td>\n",
       "      <td>...</td>\n",
       "      <td>...</td>\n",
       "      <td>...</td>\n",
       "      <td>...</td>\n",
       "      <td>...</td>\n",
       "      <td>...</td>\n",
       "      <td>...</td>\n",
       "      <td>...</td>\n",
       "      <td>...</td>\n",
       "      <td>...</td>\n",
       "      <td>...</td>\n",
       "      <td>...</td>\n",
       "      <td>...</td>\n",
       "      <td>...</td>\n",
       "    </tr>\n",
       "    <tr>\n",
       "      <th>143</th>\n",
       "      <td>209</td>\n",
       "      <td>-0.004019</td>\n",
       "      <td>0.030603</td>\n",
       "      <td>0.027202</td>\n",
       "      <td>-0.012365</td>\n",
       "      <td>-0.033848</td>\n",
       "      <td>-0.042658</td>\n",
       "      <td>-0.046677</td>\n",
       "      <td>0.002009</td>\n",
       "      <td>0.013047</td>\n",
       "      <td>...</td>\n",
       "      <td>0.006673</td>\n",
       "      <td>0.015649</td>\n",
       "      <td>0.013635</td>\n",
       "      <td>-0.014706</td>\n",
       "      <td>-0.014550</td>\n",
       "      <td>0.002014</td>\n",
       "      <td>-0.015313</td>\n",
       "      <td>-0.020589</td>\n",
       "      <td>-0.021258</td>\n",
       "      <td>0.002474</td>\n",
       "    </tr>\n",
       "    <tr>\n",
       "      <th>144</th>\n",
       "      <td>210</td>\n",
       "      <td>-0.003981</td>\n",
       "      <td>0.030624</td>\n",
       "      <td>0.030930</td>\n",
       "      <td>-0.007350</td>\n",
       "      <td>-0.016231</td>\n",
       "      <td>0.011484</td>\n",
       "      <td>0.015924</td>\n",
       "      <td>0.003522</td>\n",
       "      <td>0.002919</td>\n",
       "      <td>...</td>\n",
       "      <td>0.032882</td>\n",
       "      <td>0.030226</td>\n",
       "      <td>0.026390</td>\n",
       "      <td>-0.011652</td>\n",
       "      <td>-0.000153</td>\n",
       "      <td>0.003222</td>\n",
       "      <td>-0.020534</td>\n",
       "      <td>-0.003066</td>\n",
       "      <td>0.008692</td>\n",
       "      <td>-0.000766</td>\n",
       "    </tr>\n",
       "    <tr>\n",
       "      <th>145</th>\n",
       "      <td>211</td>\n",
       "      <td>0.005597</td>\n",
       "      <td>0.011194</td>\n",
       "      <td>0.014824</td>\n",
       "      <td>0.003933</td>\n",
       "      <td>-0.008017</td>\n",
       "      <td>-0.036001</td>\n",
       "      <td>-0.037211</td>\n",
       "      <td>0.009378</td>\n",
       "      <td>-0.019911</td>\n",
       "      <td>...</td>\n",
       "      <td>0.043707</td>\n",
       "      <td>0.033342</td>\n",
       "      <td>0.020763</td>\n",
       "      <td>0.014541</td>\n",
       "      <td>0.007116</td>\n",
       "      <td>0.024855</td>\n",
       "      <td>-0.000757</td>\n",
       "      <td>0.012875</td>\n",
       "      <td>-0.002076</td>\n",
       "      <td>-0.033900</td>\n",
       "    </tr>\n",
       "    <tr>\n",
       "      <th>146</th>\n",
       "      <td>212</td>\n",
       "      <td>-0.018404</td>\n",
       "      <td>-0.007757</td>\n",
       "      <td>-0.017796</td>\n",
       "      <td>0.019469</td>\n",
       "      <td>-0.002890</td>\n",
       "      <td>-0.034831</td>\n",
       "      <td>-0.031789</td>\n",
       "      <td>-0.013233</td>\n",
       "      <td>-0.017415</td>\n",
       "      <td>...</td>\n",
       "      <td>-0.036472</td>\n",
       "      <td>-0.033974</td>\n",
       "      <td>-0.028947</td>\n",
       "      <td>-0.054379</td>\n",
       "      <td>-0.039299</td>\n",
       "      <td>0.006094</td>\n",
       "      <td>0.013239</td>\n",
       "      <td>-0.058492</td>\n",
       "      <td>-0.010427</td>\n",
       "      <td>0.016891</td>\n",
       "    </tr>\n",
       "    <tr>\n",
       "      <th>147</th>\n",
       "      <td>213</td>\n",
       "      <td>-0.007922</td>\n",
       "      <td>0.001676</td>\n",
       "      <td>-0.000305</td>\n",
       "      <td>-0.012950</td>\n",
       "      <td>0.002438</td>\n",
       "      <td>0.002438</td>\n",
       "      <td>0.005028</td>\n",
       "      <td>-0.001219</td>\n",
       "      <td>0.020804</td>\n",
       "      <td>...</td>\n",
       "      <td>-0.011769</td>\n",
       "      <td>-0.021517</td>\n",
       "      <td>-0.020449</td>\n",
       "      <td>-0.001220</td>\n",
       "      <td>-0.004881</td>\n",
       "      <td>-0.007325</td>\n",
       "      <td>-0.004268</td>\n",
       "      <td>0.002135</td>\n",
       "      <td>-0.012074</td>\n",
       "      <td>0.004573</td>\n",
       "    </tr>\n",
       "  </tbody>\n",
       "</table>\n",
       "<p>148 rows × 311 columns</p>\n",
       "</div>"
      ],
      "text/plain": [
       "     era  feature_intelligence1_corr  feature_intelligence2_corr  \\\n",
       "0      2                   -0.013449                    0.021977   \n",
       "1      3                   -0.010667                    0.032668   \n",
       "2      4                   -0.012404                   -0.015016   \n",
       "3      5                   -0.007157                    0.015869   \n",
       "4      6                   -0.009741                   -0.023025   \n",
       "..   ...                         ...                         ...   \n",
       "143  209                   -0.004019                    0.030603   \n",
       "144  210                   -0.003981                    0.030624   \n",
       "145  211                    0.005597                    0.011194   \n",
       "146  212                   -0.018404                   -0.007757   \n",
       "147  213                   -0.007922                    0.001676   \n",
       "\n",
       "     feature_intelligence3_corr  feature_intelligence4_corr  \\\n",
       "0                      0.029850                   -0.011809   \n",
       "1                      0.026001                    0.003333   \n",
       "2                     -0.018606                   -0.000979   \n",
       "3                      0.007468                   -0.023337   \n",
       "4                     -0.014169                   -0.022730   \n",
       "..                          ...                         ...   \n",
       "143                    0.027202                   -0.012365   \n",
       "144                    0.030930                   -0.007350   \n",
       "145                    0.014824                    0.003933   \n",
       "146                   -0.017796                    0.019469   \n",
       "147                   -0.000305                   -0.012950   \n",
       "\n",
       "     feature_intelligence5_corr  feature_intelligence6_corr  \\\n",
       "0                      0.022633                   -0.024273   \n",
       "1                      0.004000                   -0.000667   \n",
       "2                     -0.003591                    0.008814   \n",
       "3                     -0.048540                    0.012135   \n",
       "4                      0.026863                    0.013579   \n",
       "..                          ...                         ...   \n",
       "143                   -0.033848                   -0.042658   \n",
       "144                   -0.016231                    0.011484   \n",
       "145                   -0.008017                   -0.036001   \n",
       "146                   -0.002890                   -0.034831   \n",
       "147                    0.002438                    0.002438   \n",
       "\n",
       "     feature_intelligence7_corr  feature_intelligence8_corr  \\\n",
       "0                     -0.031818                   -0.019681   \n",
       "1                     -0.000334                   -0.019001   \n",
       "2                      0.017954                   -0.003591   \n",
       "3                      0.011202                   -0.027693   \n",
       "4                      0.018597                   -0.004133   \n",
       "..                          ...                         ...   \n",
       "143                   -0.046677                    0.002009   \n",
       "144                    0.015924                    0.003522   \n",
       "145                   -0.037211                    0.009378   \n",
       "146                   -0.031789                   -0.013233   \n",
       "147                    0.005028                   -0.001219   \n",
       "\n",
       "     feature_intelligence9_corr  ...  feature_wisdom37_corr  \\\n",
       "0                      0.031931  ...              -0.022115   \n",
       "1                      0.018085  ...              -0.012405   \n",
       "2                      0.018375  ...               0.028219   \n",
       "3                      0.007191  ...               0.034410   \n",
       "4                     -0.014212  ...               0.025209   \n",
       "..                          ...  ...                    ...   \n",
       "143                    0.013047  ...               0.006673   \n",
       "144                    0.002919  ...               0.032882   \n",
       "145                   -0.019911  ...               0.043707   \n",
       "146                   -0.017415  ...              -0.036472   \n",
       "147                    0.020804  ...              -0.011769   \n",
       "\n",
       "     feature_wisdom38_corr  feature_wisdom39_corr  feature_wisdom40_corr  \\\n",
       "0                -0.021081              -0.011199               0.023029   \n",
       "1                 0.001675               0.004689               0.018586   \n",
       "2                 0.034745               0.027862               0.005020   \n",
       "3                 0.031251               0.030939              -0.022632   \n",
       "4                 0.025186               0.015704               0.003626   \n",
       "..                     ...                    ...                    ...   \n",
       "143               0.015649               0.013635              -0.014706   \n",
       "144               0.030226               0.026390              -0.011652   \n",
       "145               0.033342               0.020763               0.014541   \n",
       "146              -0.033974              -0.028947              -0.054379   \n",
       "147              -0.021517              -0.020449              -0.001220   \n",
       "\n",
       "     feature_wisdom41_corr  feature_wisdom42_corr  feature_wisdom43_corr  \\\n",
       "0                 0.020617               0.010317               0.015449   \n",
       "1                 0.002063               0.012850               0.011365   \n",
       "2                 0.008391               0.023167              -0.010459   \n",
       "3                -0.013421               0.030947               0.019638   \n",
       "4                 0.009695               0.031139              -0.015669   \n",
       "..                     ...                    ...                    ...   \n",
       "143              -0.014550               0.002014              -0.015313   \n",
       "144              -0.000153               0.003222              -0.020534   \n",
       "145               0.007116               0.024855              -0.000757   \n",
       "146              -0.039299               0.006094               0.013239   \n",
       "147              -0.004881              -0.007325              -0.004268   \n",
       "\n",
       "     feature_wisdom44_corr  feature_wisdom45_corr  feature_wisdom46_corr  \n",
       "0                 0.014562              -0.042133              -0.007230  \n",
       "1                 0.020651               0.004373               0.000668  \n",
       "2                 0.015729              -0.011540              -0.004900  \n",
       "3                -0.017851               0.011313               0.023978  \n",
       "4                 0.002115               0.003880              -0.001181  \n",
       "..                     ...                    ...                    ...  \n",
       "143              -0.020589              -0.021258               0.002474  \n",
       "144              -0.003066               0.008692              -0.000766  \n",
       "145               0.012875              -0.002076              -0.033900  \n",
       "146              -0.058492              -0.010427               0.016891  \n",
       "147               0.002135              -0.012074               0.004573  \n",
       "\n",
       "[148 rows x 311 columns]"
      ]
     },
     "execution_count": 11,
     "metadata": {},
     "output_type": "execute_result"
    }
   ],
   "source": [
    "corrtarget = df.groupby('era').apply(lambda x: x[base_features].corrwith(x.target))\n",
    "corrtarget.columns = [f\"{c}_corr\" for c in corrtarget.columns]\n",
    "\n",
    "corrtarget = corrtarget.reset_index()\n",
    "corrtarget['era'] = corrtarget.era +1\n",
    "corrtarget"
   ]
  },
  {
   "cell_type": "raw",
   "id": "bacterial-detector",
   "metadata": {},
   "source": [
    "df = df.merge(corrtarget, on='era')"
   ]
  },
  {
   "cell_type": "code",
   "execution_count": 12,
   "id": "hidden-pottery",
   "metadata": {},
   "outputs": [],
   "source": [
    "train = df[df.data_type == 'train']\n",
    "test = df[df.data_type == 'validation']"
   ]
  },
  {
   "cell_type": "code",
   "execution_count": 17,
   "id": "annoying-investigation",
   "metadata": {},
   "outputs": [
    {
     "data": {
      "text/plain": [
       "328"
      ]
     },
     "execution_count": 17,
     "metadata": {},
     "output_type": "execute_result"
    }
   ],
   "source": [
    "features = [f for f in df.columns if type(f) != int and f.startswith('feature') and not f.endswith('corr')]\n",
    "#eatures = [f for f in df.columns if type(f) == int or (f.startswith('feature') and not f.endswith('corr'))]\n",
    "len(features)"
   ]
  },
  {
   "cell_type": "code",
   "execution_count": 18,
   "id": "sufficient-technician",
   "metadata": {},
   "outputs": [],
   "source": [
    "import numpy as np\n",
    "import pandas as pd\n",
    "from scipy.stats import spearmanr\n",
    "\n",
    "\n",
    "def spearman(y_true, y_pred, axis=0):\n",
    "    \"\"\" Calculate Spearman correlation \"\"\"\n",
    "    return spearmanr(y_true, y_pred, axis=axis)[0]\n",
    "\n",
    "\n",
    "def sharpe(df: pd.DataFrame, y_pred) -> np.float32:\n",
    "    \"\"\"\n",
    "    Calculate the Sharpe ratio by using grouped per-era data\n",
    "    :param df: A Pandas DataFrame containing the columns \"era\", \"target\" and \"prediction\"\n",
    "    :return: The Sharpe ratio for your predictions.\n",
    "    \"\"\"\n",
    "    df = df.copy()\n",
    "    df['prediction'] = y_pred\n",
    "    def _score(sub_df: pd.DataFrame) -> np.float32:\n",
    "        \"\"\" Calculate Spearman correlation for Pandas' apply method \"\"\"\n",
    "        return spearmanr(sub_df[\"target\"], sub_df[\"prediction\"])[0, 1]\n",
    "\n",
    "    corrs = df.groupby(\"era\").apply(_score)\n",
    "    return corrs.mean() / corrs.std()"
   ]
  },
  {
   "cell_type": "code",
   "execution_count": 19,
   "id": "clear-northeast",
   "metadata": {},
   "outputs": [
    {
     "name": "stdout",
     "output_type": "stream",
     "text": [
      "[LightGBM] [Info] This is the GPU trainer!!\n",
      "[LightGBM] [Info] Total Bins 5347\n",
      "[LightGBM] [Info] Number of data points in the train set: 501808, number of used features: 328\n",
      "[LightGBM] [Info] Using GPU Device: GeForce GTX 1080 Ti, Vendor: NVIDIA Corporation\n",
      "[LightGBM] [Info] Compiling OpenCL Kernel with 256 bins...\n",
      "[LightGBM] [Info] GPU programs have been built\n",
      "[LightGBM] [Info] Size of histogram bin entry: 8\n",
      "[LightGBM] [Info] 326 dense feature groups (156.97 MB) transferred to GPU in 0.051998 secs. 1 sparse feature groups\n",
      "[LightGBM] [Info] Start training from score 0.499997\n"
     ]
    },
    {
     "data": {
      "text/plain": [
       "0.02630967866222815"
      ]
     },
     "execution_count": 19,
     "metadata": {},
     "output_type": "execute_result"
    }
   ],
   "source": [
    "dtrain = lgb.Dataset(train[features], label=train.target)\n",
    "\n",
    "param = {\n",
    "    'boosting_type': 'gbdt',\n",
    "    'objective': 'regression',\n",
    "    'metric': 'l2',\n",
    "    \"device\": \"gpu\",\n",
    "    \"num_iterations\": 2000,\n",
    "    'learning_rate': 0.006085005910213603,\n",
    " 'lambda_l1': 1.460802617273486,\n",
    " 'lambda_l2': 1.0611461754655795e-05,\n",
    " 'feature_fraction': 0.9969345315260029,\n",
    " 'bagging_fraction': 0.5585536563609045,\n",
    " 'bagging_freq': 1,\n",
    " 'min_child_samples': 83,\n",
    " 'num_leaves': 107,\n",
    " 'max_depth': 15,\n",
    "    'verbose': 1,\n",
    "    \"random_state\": 0,\n",
    "}\n",
    "\n",
    "gbm = lgb.train(param, dtrain)\n",
    "preds = gbm.predict(test[features])\n",
    "accuracy = spearman(test.target, preds)\n",
    "\n",
    "accuracy"
   ]
  },
  {
   "cell_type": "code",
   "execution_count": null,
   "id": "weekly-present",
   "metadata": {},
   "outputs": [],
   "source": [
    "0.025865630981665343"
   ]
  },
  {
   "cell_type": "code",
   "execution_count": null,
   "id": "capable-navigation",
   "metadata": {},
   "outputs": [],
   "source": [
    "def objective(trial):\n",
    "    dtrain = lgb.Dataset(train[features], label=train.target)\n",
    " \n",
    "    param = {\n",
    "        'boosting_type': 'gbdt',\n",
    "        'objective': 'regression',\n",
    "        'metric': 'l2',\n",
    "        \"device\": \"gpu\",\n",
    "        \"learning_rate\": trial.suggest_uniform('learning_rate', 0.004, 0.1),\n",
    "        \"num_iterations\": 500,\n",
    "        'lambda_l1': trial.suggest_loguniform('lambda_l1', 0.1, 10.0),\n",
    "        'lambda_l2': trial.suggest_loguniform('lambda_l2', 0.1, 10.0),\n",
    "        'feature_fraction': trial.suggest_uniform('feature_fraction', 0.4, 1.0),\n",
    "        'bagging_fraction': trial.suggest_uniform('bagging_fraction', 0.4, 1.0),\n",
    "        'bagging_freq': trial.suggest_int('bagging_freq', 1, 7),\n",
    "        'min_child_samples': trial.suggest_int('min_child_samples', 5, 100),\n",
    "        'num_leaves': trial.suggest_int('num_leaves', 2, 256),\n",
    "        \"max_depth\": trial.suggest_int('max_depth', 3, 20),\n",
    "        'verbose': -1,\n",
    "    }\n",
    " \n",
    "    gbm = lgb.train(param, dtrain)\n",
    "    preds = gbm.predict(test[features])\n",
    "    accuracy = spearman(test.target, preds)\n",
    "    return accuracy\n",
    " \n",
    "study = optuna.create_study(direction='maximize')\n",
    "study.optimize(objective, n_trials=50)\n",
    " \n",
    "print('Number of finished trials:', len(study.trials))\n",
    "print('Best trial:', study.best_trial.params)"
   ]
  },
  {
   "cell_type": "code",
   "execution_count": 10,
   "id": "opening-median",
   "metadata": {},
   "outputs": [
    {
     "data": {
      "text/plain": [
       "{'learning_rate': 0.006085005910213603,\n",
       " 'lambda_l1': 1.460802617273486,\n",
       " 'lambda_l2': 1.0611461754655795e-05,\n",
       " 'feature_fraction': 0.9969345315260029,\n",
       " 'bagging_fraction': 0.5585536563609045,\n",
       " 'bagging_freq': 1,\n",
       " 'min_child_samples': 83,\n",
       " 'num_leaves': 107,\n",
       " 'max_depth': 15}"
      ]
     },
     "execution_count": 10,
     "metadata": {},
     "output_type": "execute_result"
    }
   ],
   "source": [
    "study.best_trial.params"
   ]
  },
  {
   "cell_type": "code",
   "execution_count": 20,
   "id": "disabled-analysis",
   "metadata": {},
   "outputs": [
    {
     "data": {
      "text/plain": [
       "0.0133659670894086"
      ]
     },
     "execution_count": 20,
     "metadata": {},
     "output_type": "execute_result"
    }
   ],
   "source": [
    "accuracy"
   ]
  },
  {
   "cell_type": "code",
   "execution_count": null,
   "id": "guilty-skirt",
   "metadata": {},
   "outputs": [],
   "source": []
  },
  {
   "cell_type": "markdown",
   "id": "danish-stanford",
   "metadata": {},
   "source": [
    "## Model"
   ]
  },
  {
   "cell_type": "markdown",
   "id": "electrical-clearing",
   "metadata": {},
   "source": [
    "### LightGBM"
   ]
  },
  {
   "cell_type": "code",
   "execution_count": 20,
   "id": "subtle-thought",
   "metadata": {},
   "outputs": [],
   "source": [
    "meta = ['id', 'era', 'data_type', 'target', 'prediction']\n",
    "feature_columns = features"
   ]
  },
  {
   "cell_type": "code",
   "execution_count": 21,
   "id": "dramatic-bridge",
   "metadata": {
    "tags": []
   },
   "outputs": [
    {
     "data": {
      "text/plain": [
       "328"
      ]
     },
     "execution_count": 21,
     "metadata": {},
     "output_type": "execute_result"
    }
   ],
   "source": [
    "len(feature_columns)"
   ]
  },
  {
   "cell_type": "code",
   "execution_count": 27,
   "id": "generous-tourism",
   "metadata": {
    "tags": []
   },
   "outputs": [],
   "source": [
    "%%time\n",
    "\n",
    "dtrain = lgb.Dataset(train[feature_columns].fillna(0), label=train[\"target\"])\n",
    "dvalid = lgb.Dataset(test[feature_columns].fillna(0), label=test[\"target\"])\n",
    "\n",
    "\n",
    "param = {\n",
    "    'boosting_type': 'gbdt',\n",
    "    'objective': 'regression',\n",
    "    'metric': 'l2',\n",
    "    \"device\": \"gpu\",\n",
    "    \"num_iterations\": 2000,\n",
    "    'learning_rate': 0.006085005910213603,\n",
    " 'lambda_l1': 1.460802617273486,\n",
    " 'lambda_l2': 1.0611461754655795e-05,\n",
    " 'feature_fraction': 0.9969345315260029,\n",
    " 'bagging_fraction': 0.5585536563609045,\n",
    " 'bagging_freq': 1,\n",
    " 'min_child_samples': 83,\n",
    " 'num_leaves': 107,\n",
    " 'max_depth': 15,\n",
    "    'verbose': 1,\n",
    "    \"random_state\": 0,\n",
    "}\n",
    "\n",
    "model = lgb.train(param, dtrain)\n",
    "\n",
    "train.loc[:, \"prediction\"] = model.predict(train[feature_columns])"
   ]
  },
  {
   "cell_type": "code",
   "execution_count": 30,
   "id": "organic-alexander",
   "metadata": {
    "tags": []
   },
   "outputs": [],
   "source": [
    "test.loc[:,\"prediction\"] = model.predict(test[feature_columns])"
   ]
  },
  {
   "cell_type": "code",
   "execution_count": 31,
   "id": "accepting-benchmark",
   "metadata": {},
   "outputs": [
    {
     "data": {
      "text/plain": [
       "<AxesSubplot:title={'center':'Feature importance'}, xlabel='Feature importance', ylabel='Features'>"
      ]
     },
     "execution_count": 31,
     "metadata": {},
     "output_type": "execute_result"
    },
    {
     "data": {
      "image/png": "[encoded data removed]",
      "text/plain": [
       "<Figure size 432x288 with 1 Axes>"
      ]
     },
     "metadata": {
      "needs_background": "light"
     },
     "output_type": "display_data"
    }
   ],
   "source": [
    "lgb.plot_importance(model)"
   ]
  },
  {
   "cell_type": "markdown",
   "id": "knowing-upgrade",
   "metadata": {},
   "source": [
    "## Evaluation"
   ]
  },
  {
   "cell_type": "code",
   "execution_count": 34,
   "id": "republican-brief",
   "metadata": {
    "tags": []
   },
   "outputs": [
    {
     "name": "stdout",
     "output_type": "stream",
     "text": [
      "era\n",
      "121    0.038342\n",
      "122    0.026930\n",
      "123    0.048853\n",
      "124    0.055559\n",
      "125    0.029151\n",
      "126    0.038846\n",
      "127    0.005870\n",
      "128    0.057918\n",
      "129   -0.018374\n",
      "130    0.057636\n",
      "131    0.022801\n",
      "132    0.073294\n",
      "197    0.037282\n",
      "198    0.012333\n",
      "199   -0.044739\n",
      "200   -0.005282\n",
      "201    0.002306\n",
      "202    0.050141\n",
      "203    0.034553\n",
      "204    0.049194\n",
      "205    0.006324\n",
      "206   -0.008602\n",
      "207    0.044040\n",
      "208    0.073049\n",
      "209    0.053856\n",
      "210   -0.014284\n",
      "211   -0.012686\n",
      "212    0.024565\n",
      "dtype: float64\n",
      "Spearman Correlation: 0.0264\n",
      "Average Payout: 0.1319\n",
      "Sharpe Ratio: 0.8772\n",
      "Mean Absolute Error (MAE): 0.1543\n"
     ]
    }
   ],
   "source": [
    "\n",
    "from sklearn.metrics import mean_absolute_error\n",
    "\n",
    "def sharpe_ratio(corrs: pd.Series) -> np.float32:\n",
    "        \"\"\"\n",
    "        Calculate the Sharpe ratio for Numerai by using grouped per-era data\n",
    "\n",
    "        :param corrs: A Pandas Series containing the Spearman correlations for each era\n",
    "        :return: A float denoting the Sharpe ratio of your predictions.\n",
    "        \"\"\"\n",
    "        return corrs.mean() / corrs.std()\n",
    "\n",
    "\n",
    "def evaluate(df: pd.DataFrame) -> tuple:\n",
    "        \"\"\"\n",
    "        Evaluate and display relevant metrics for Numerai \n",
    "\n",
    "        :param df: A Pandas DataFrame containing the columns \"era\", \"target\" and a column for predictions\n",
    "        :param pred_col: The column where the predictions are stored\n",
    "        :return: A tuple of float containing the metrics\n",
    "        \"\"\"\n",
    "        def _score(sub_df: pd.DataFrame) -> np.float32:\n",
    "            \"\"\"Calculates Spearman correlation\"\"\"\n",
    "            return spearmanr(sub_df[\"target\"], sub_df[\"prediction\"])[0]\n",
    "\n",
    "        # Calculate metrics\n",
    "        corrs = df.groupby(\"era\").apply(_score)\n",
    "        print(corrs)\n",
    "        payout_raw = (corrs / 0.2).clip(-1, 1)\n",
    "        spearman = round(corrs.mean(), 4)\n",
    "\n",
    "        payout = round(payout_raw.mean(), 4)\n",
    "        numerai_sharpe = round(sharpe_ratio(corrs), 4)\n",
    "        mae = mean_absolute_error(df[\"target\"], df[\"prediction\"]).round(4)\n",
    "\n",
    "        # Display metrics\n",
    "        print(f\"Spearman Correlation: {spearman}\")\n",
    "        print(f\"Average Payout: {payout}\")\n",
    "        print(f\"Sharpe Ratio: {numerai_sharpe}\")\n",
    "        print(f\"Mean Absolute Error (MAE): {mae}\")\n",
    "        return spearman, payout, numerai_sharpe, mae\n",
    "        \n",
    "feature_spearman_val = [spearmanr(test[\"prediction\"], test[f])[0] for f in feature_columns]\n",
    "feature_exposure_val = np.std(feature_spearman_val).round(4)\n",
    "spearman, payout, numerai_sharpe, mae = evaluate(test)"
   ]
  },
  {
   "cell_type": "markdown",
   "id": "synthetic-factor",
   "metadata": {},
   "source": [
    "## Submission CSV"
   ]
  },
  {
   "cell_type": "code",
   "execution_count": 36,
   "id": "interim-square",
   "metadata": {},
   "outputs": [
    {
     "name": "stdout",
     "output_type": "stream",
     "text": [
      "You already have the newest data! Current round is: 254\n",
      "Loading the data\n",
      "CPU times: user 1min 36s, sys: 1min 11s, total: 2min 48s\n",
      "Wall time: 2min 50s\n"
     ]
    }
   ],
   "source": [
    "%%time\n",
    "import os\n",
    "import random as rn\n",
    "\n",
    "import lightgbm as lgb\n",
    "import matplotlib.pyplot as plt\n",
    "import numerapi\n",
    "import numpy as np\n",
    "import pandas as pd\n",
    "import seaborn as sns\n",
    "from scipy.stats import pearsonr, spearmanr\n",
    "from sklearn.metrics import mean_absolute_error\n",
    "\n",
    "example_public_id = \"WUTL537K2HLISXIDDHFTQF2LZ5MO67HV\"\n",
    "example_secret_key = \"3EKVW2XQ7NTR6FDA77ZOJF4UWHOE56QYZ7VZ7CZ5WYVIMEARXEUNELYXOPH4S35J\"\n",
    "NAPI = numerapi.NumerAPI(example_public_id, example_secret_key)\n",
    "\n",
    "\n",
    "DIR = \"data\"\n",
    "\n",
    "\n",
    "def download_current_data(directory: str):\n",
    "    \"\"\"\n",
    "        Downloads the data for the current round\n",
    "        :param directory: The path to the directory where the data needs to be saved\n",
    "        \"\"\"\n",
    "    current_round = NAPI.get_current_round()\n",
    "    if os.path.isdir(f\"{directory}/numerai_dataset_{current_round}/\"):\n",
    "        print(f\"You already have the newest data! Current round is: {current_round}\")\n",
    "    else:\n",
    "        print(f\"Downloading new data for round: {current_round}!\")\n",
    "        NAPI.download_current_dataset(dest_path=directory, unzip=True)\n",
    "\n",
    "\n",
    "def load_data(directory: str, reduce_memory: bool = True) -> tuple:\n",
    "    \"\"\"\n",
    "        Get data for current round\n",
    "        :param directory: The path to the directory where the data needs to be saved\n",
    "        :return: A tuple containing the datasets\n",
    "        \"\"\"\n",
    "    print(\"Loading the data\")\n",
    "    full_path = f\"{directory}/numerai_dataset_{NAPI.get_current_round()}/\"\n",
    "    train_path = full_path + \"numerai_training_data.csv\"\n",
    "    test_path = full_path + \"numerai_tournament_data.csv\"\n",
    "    train = pd.read_csv(train_path, encoding='ascii')\n",
    "    test = pd.read_csv(test_path, encoding='ascii')\n",
    "    # Reduce all features to 32-bit floats\n",
    "    if reduce_memory:\n",
    "        num_features = [f for f in train.columns if f.startswith(\"feature\")]\n",
    "        train[num_features] = train[num_features].astype(np.float32)\n",
    "        test[num_features] = test[num_features].astype(np.float32)\n",
    "    val = test[test[\"data_type\"] == \"validation\"]\n",
    "    test = test[test[\"data_type\"] != \"validation\"]\n",
    "    return train, val, test\n",
    "\n",
    "\n",
    "# Download, unzip and load data\n",
    "download_current_data(DIR)\n",
    "train, val, test = load_data(DIR, reduce_memory=True)"
   ]
  },
  {
   "cell_type": "code",
   "execution_count": 37,
   "id": "surrounded-judge",
   "metadata": {},
   "outputs": [],
   "source": [
    "def get_group_stats(df: pd.DataFrame) -> pd.DataFrame:\n",
    "        for group in [\"intelligence\", \"wisdom\", \"charisma\", \"dexterity\", \"strength\", \"constitution\"]:\n",
    "            cols = [col for col in df.columns if group in col]\n",
    "            df[f\"feature_{group}_mean\"] = df[cols].mean(axis=1)\n",
    "            df[f\"feature_{group}_std\"] = df[cols].std(axis=1)\n",
    "            df[f\"feature_{group}_skew\"] = df[cols].skew(axis=1)\n",
    "        return df\n",
    "\n",
    "train = get_group_stats(train)\n",
    "val = get_group_stats(val)\n",
    "test = get_group_stats(test)"
   ]
  },
  {
   "cell_type": "code",
   "execution_count": 40,
   "id": "conceptual-source",
   "metadata": {},
   "outputs": [],
   "source": [
    "feature_list = feature_columns\n",
    "\n",
    "test.loc[:, \"prediction\"] = model.predict(test[feature_list])\n",
    "val.loc[:, \"prediction\"] = model.predict(val[feature_list])\n",
    "test[['id', \"prediction\"]].to_csv(\"submission_test.csv\", index=False)\n",
    "\n",
    "val[['id', \"prediction\"]].to_csv(\"submission_val.csv\", index=False)\n",
    "\n",
    "test=0\n",
    "val=0\n",
    "\n",
    "directory = \"data\"\n",
    "full_path = f'{directory}/numerai_dataset_{NAPI.get_current_round()}/'\n",
    "\n",
    "test_path = full_path + 'numerai_tournament_data.csv'\n",
    "\n",
    "tournament_data = pd.read_csv(test_path)\n",
    "tournament_data_id=tournament_data['id']\n",
    "tournament_data_id2=tournament_data['feature_dexterity7']\n",
    "tournament_data_id=pd.concat([tournament_data_id,tournament_data_id2],axis=1)"
   ]
  },
  {
   "cell_type": "code",
   "execution_count": 41,
   "id": "packed-static",
   "metadata": {},
   "outputs": [],
   "source": [
    "val=pd.read_csv(\"submission_val.csv\")\n",
    "test=pd.read_csv(\"submission_test.csv\")\n",
    "\n",
    "test_val_concat=pd.concat([val[['id', \"prediction\"]],test[['id', \"prediction\"]]],axis=0).set_index('id')\n",
    "tournament_data_id=tournament_data_id.set_index('id')\n",
    "\n",
    "conc_submit=pd.concat([tournament_data_id,test_val_concat],axis=1).drop(columns='feature_dexterity7').reset_index()\n",
    "conc_submit=conc_submit.rename(columns={'index': 'id'})\n",
    "conc_submit.to_csv(\"submission_file\"+\".csv\", index=False)"
   ]
  },
  {
   "cell_type": "code",
   "execution_count": 42,
   "id": "fuzzy-custody",
   "metadata": {},
   "outputs": [
    {
     "name": "stderr",
     "output_type": "stream",
     "text": [
      "<ipython-input-42-db7083cc578f>:5: FutureWarning: `rcond` parameter will change to the default of machine precision times ``max(M, N)`` where M and N are the input matrix dimensions.\n",
      "To use the future default and silence this warning we advise to pass `rcond=None`, to keep using the old, explicitly pass `rcond=-1`.\n",
      "  correction = proportion * (exposures.dot(np.linalg.lstsq(exposures, scores)[0]))\n"
     ]
    }
   ],
   "source": [
    "def neutralize(series,by, proportion):\n",
    "    scores = series.values.reshape(-1, 1)\n",
    "    exposures = by.values.reshape(-1, 1)\n",
    "    exposures = np.hstack((exposures, np.array([np.mean(series)] * len(exposures)).reshape(-1, 1)))\n",
    "    correction = proportion * (exposures.dot(np.linalg.lstsq(exposures, scores)[0]))\n",
    "    corrected_scores = scores - correction\n",
    "    neutralized = pd.Series(corrected_scores.ravel(), index=series.index)\n",
    "    return neutralized\n",
    "    \n",
    "by=pd.read_csv('data/numerai_dataset_'+str(NAPI.get_current_round())+'/example_predictions.csv')\n",
    "\n",
    "neut=pd.read_csv(\"submission_file.csv\")\n",
    "neut=pd.DataFrame({'prediction':neutralize(neut['prediction'],by['prediction'], 0.3)})\n",
    "\n",
    "conc=pd.concat([by.drop(columns=\"prediction\"),neut],axis=1)\n",
    "conc.to_csv(\"neutralized_submission_file.csv\", index=False)#submission file"
   ]
  },
  {
   "cell_type": "code",
   "execution_count": null,
   "id": "varied-experiment",
   "metadata": {},
   "outputs": [],
   "source": []
  }
 ],
 "metadata": {
  "kernelspec": {
   "display_name": "Python 3",
   "language": "python",
   "name": "python3"
  },
  "language_info": {
   "codemirror_mode": {
    "name": "ipython",
    "version": 3
   },
   "file_extension": ".py",
   "mimetype": "text/x-python",
   "name": "python",
   "nbconvert_exporter": "python",
   "pygments_lexer": "ipython3",
   "version": "3.9.2"
  }
 },
 "nbformat": 4,
 "nbformat_minor": 5
}
